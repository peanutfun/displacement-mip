{
 "cells": [
  {
   "cell_type": "markdown",
   "metadata": {},
   "source": [
    "# Compute Hazard"
   ]
  },
  {
   "cell_type": "code",
   "execution_count": 1,
   "metadata": {},
   "outputs": [
    {
     "name": "stderr",
     "output_type": "stream",
     "text": [
      "/Users/ldr.riedel/mambaforge/envs/climada_env_3.9/lib/python3.9/site-packages/dask/dataframe/_pyarrow_compat.py:17: FutureWarning: Minimal version of pyarrow will soon be increased to 14.0.1. You are using 11.0.0. Please consider upgrading.\n",
      "  warnings.warn(\n"
     ]
    }
   ],
   "source": [
    "from pathlib import Path\n",
    "\n",
    "import numpy as np\n",
    "import pandas as pd\n",
    "import xarray as xr\n",
    "\n",
    "from climada_petals.hazard.rf_glofas import RiverFloodInundation, save_file"
   ]
  },
  {
   "cell_type": "code",
   "execution_count": 4,
   "metadata": {},
   "outputs": [
    {
     "name": "stderr",
     "output_type": "stream",
     "text": [
      "/Users/ldr.riedel/mambaforge/envs/climada_env_3.9/lib/python3.9/site-packages/xarray/core/dataset.py:282: UserWarning: The specified chunks separate the stored chunks along dimension \"latitude\" starting at index 1377. This could degrade performance. Instead, consider rechunking after loading.\n",
      "  warnings.warn(\n",
      "/Users/ldr.riedel/mambaforge/envs/climada_env_3.9/lib/python3.9/site-packages/xarray/core/dataset.py:282: UserWarning: The specified chunks separate the stored chunks along dimension \"longitude\" starting at index 3480. This could degrade performance. Instead, consider rechunking after loading.\n",
      "  warnings.warn(\n",
      "Ignoring index file '/Users/ldr.riedel/experiments/displacement-mip/data/generated/cds-download/glofas-historical-2014.grib.923a8.idx' older than GRIB file\n",
      "Ignoring index file '/Users/ldr.riedel/experiments/displacement-mip/data/generated/cds-download/glofas-historical-2015.grib.923a8.idx' older than GRIB file\n",
      "Ignoring index file '/Users/ldr.riedel/experiments/displacement-mip/data/generated/cds-download/glofas-historical-2016.grib.923a8.idx' older than GRIB file\n",
      "Ignoring index file '/Users/ldr.riedel/experiments/displacement-mip/data/generated/cds-download/glofas-historical-2017.grib.923a8.idx' older than GRIB file\n",
      "Ignoring index file '/Users/ldr.riedel/experiments/displacement-mip/data/generated/cds-download/glofas-historical-2018.grib.923a8.idx' older than GRIB file\n",
      "Ignoring index file '/Users/ldr.riedel/experiments/displacement-mip/data/generated/cds-download/glofas-historical-2019.grib.923a8.idx' older than GRIB file\n",
      "Ignoring index file '/Users/ldr.riedel/experiments/displacement-mip/data/generated/cds-download/glofas-historical-2020.grib.923a8.idx' older than GRIB file\n",
      "Ignoring index file '/Users/ldr.riedel/experiments/displacement-mip/data/generated/cds-download/glofas-historical-2021.grib.923a8.idx' older than GRIB file\n",
      "Ignoring index file '/Users/ldr.riedel/experiments/displacement-mip/data/generated/cds-download/glofas-historical-2022.grib.923a8.idx' older than GRIB file\n"
     ]
    }
   ],
   "source": [
    "rf = RiverFloodInundation()\n",
    "\n",
    "output_path = Path(\"./data/generated/sudan\")\n",
    "input_path = Path(\n",
    "    \"/Users/ldr.riedel/experiments/displacement-mip/data/generated/cds-download/\"\n",
    ")\n",
    "years = np.arange(2014, 2022 + 1)\n",
    "for year in years.flat:\n",
    "    with xr.open_dataarray(\n",
    "        input_path / f\"glofas-historical-{year}.grib\", chunks=\"auto\"\n",
    "    ) as discharge:\n",
    "        ds_flood = rf.compute(discharge=discharge.max(dim=\"time\").expand_dims(\"time\"))\n",
    "        save_file(ds_flood, output_path / f\"sudan-{year}.nc\")\n",
    "        rf.clear_cache()"
   ]
  }
 ],
 "metadata": {
  "kernelspec": {
   "display_name": "climada_env_3.9",
   "language": "python",
   "name": "python3"
  },
  "language_info": {
   "codemirror_mode": {
    "name": "ipython",
    "version": 3
   },
   "file_extension": ".py",
   "mimetype": "text/x-python",
   "name": "python",
   "nbconvert_exporter": "python",
   "pygments_lexer": "ipython3",
   "version": "3.9.16"
  }
 },
 "nbformat": 4,
 "nbformat_minor": 2
}
